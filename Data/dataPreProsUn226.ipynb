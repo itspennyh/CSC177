{
 "cells": [
  {
   "cell_type": "code",
   "execution_count": 30,
   "metadata": {},
   "outputs": [
    {
     "name": "stdout",
     "output_type": "stream",
     "text": [
      "248\n",
      "Number of instances = 16598\n",
      "Number of attributes = 11\n",
      "   Rank                      Name Platform    Year         Genre Publisher  \\\n",
      "0     1                Wii Sports      Wii  2006.0        Sports  Nintendo   \n",
      "1     2         Super Mario Bros.      NES  1985.0      Platform  Nintendo   \n",
      "2     3            Mario Kart Wii      Wii  2008.0        Racing  Nintendo   \n",
      "3     4         Wii Sports Resort      Wii  2009.0        Sports  Nintendo   \n",
      "4     5  Pokemon Red/Pokemon Blue       GB  1996.0  Role-Playing  Nintendo   \n",
      "\n",
      "   NA_Sales  EU_Sales  JP_Sales  Other_Sales  Global_Sales  \n",
      "0     41.49     29.02      3.77         8.46         82.74  \n",
      "1     29.08      3.58      6.81         0.77         40.24  \n",
      "2     15.85     12.88      3.79         3.31         35.82  \n",
      "3     15.75     11.01      3.28         2.96         33.00  \n",
      "4     11.27      8.89     10.22         1.00         31.37  \n"
     ]
    }
   ],
   "source": [
    "# Warming Up\n",
    "import pandas as pd\n",
    "import numpy as np\n",
    "from random import randrange\n",
    "\n",
    "fPath = 'C:\\\\Users\\\\mikeb\\\\Documents\\\\School\\\\csc177\\\\vgsales.csv'\n",
    "df = pd.read_csv(fPath)\n",
    "\n",
    "# trying to create 1.5% worth of duplicates\n",
    "rws = df.shape[0]\n",
    "col = df.shape[1]\n",
    "rwRtio = int(.015 * rws) # float is truncated\n",
    "\n",
    "print('Number of instances before duplication = %d' % (rws))\n",
    "\n",
    "def eenyMeeny():\n",
    "     # select a random row\n",
    "    tg = df.iloc[randrange(0, rws)]\n",
    "    # return randomly selected row\n",
    "    return tg\n",
    "\n",
    "for i in range(rwRtio):\n",
    "    df = df.append(eenyMeeny(), ignore_index=True)\n",
    "rws = df.shape[0]\n",
    "\n",
    "print('Number of instances after duplication = %d' % (rws))\n",
    "print('Number of attributes = %d' % (col))\n",
    "print(df.head())"
   ]
  },
  {
   "cell_type": "markdown",
   "metadata": {},
   "source": [
    "### Missing Values"
   ]
  },
  {
   "cell_type": "code",
   "execution_count": null,
   "metadata": {},
   "outputs": [],
   "source": [
    "data = df.replace('?',np.NaN)\n",
    "\n",
    "print('Number of instances = %d' % (rws))\n",
    "print('Number of attributes = %d' % (col))\n",
    "\n",
    "print('Number of missing values:')\n",
    "for col in df.columns:\n",
    "    print('\\t%s: %d' % (col,df[col].isna().sum()))"
   ]
  },
  {
   "cell_type": "code",
   "execution_count": null,
   "metadata": {},
   "outputs": [],
   "source": [
    "print('Number of rows in original data = %d' % (rws))\n",
    "df = df.dropna()\n",
    "print('Number of rows after discarding missing values = %d' % (df.shape[0]))\n",
    "print('Difference in number of rows = %d' % (rws-df.shape[0]))\n",
    "# update rws\n",
    "rws = df.shape[0]"
   ]
  },
  {
   "cell_type": "markdown",
   "metadata": {},
   "source": [
    "### Outliers"
   ]
  },
  {
   "cell_type": "code",
   "execution_count": null,
   "metadata": {},
   "outputs": [],
   "source": [
    "pass"
   ]
  },
  {
   "cell_type": "markdown",
   "metadata": {},
   "source": [
    "### Duplicat Data"
   ]
  },
  {
   "cell_type": "code",
   "execution_count": null,
   "metadata": {},
   "outputs": [],
   "source": [
    "dups = df.duplicated()\n",
    "print('Number of duplicate rows = %d' % (dups.sum()))"
   ]
  }
 ],
 "metadata": {
  "kernelspec": {
   "display_name": "Python 3",
   "language": "python",
   "name": "python3"
  },
  "language_info": {
   "codemirror_mode": {
    "name": "ipython",
    "version": 3
   },
   "file_extension": ".py",
   "mimetype": "text/x-python",
   "name": "python",
   "nbconvert_exporter": "python",
   "pygments_lexer": "ipython3",
   "version": "3.11.8"
  }
 },
 "nbformat": 4,
 "nbformat_minor": 2
}
