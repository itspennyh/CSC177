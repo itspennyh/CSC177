{
  "metadata": {
    "kernelspec": {
      "name": "python",
      "display_name": "Python (Pyodide)",
      "language": "python"
    },
    "language_info": {
      "codemirror_mode": {
        "name": "python",
        "version": 3
      },
      "file_extension": ".py",
      "mimetype": "text/x-python",
      "name": "python",
      "nbconvert_exporter": "python",
      "pygments_lexer": "ipython3",
      "version": "3.8"
    }
  },
  "nbformat_minor": 4,
  "nbformat": 4,
  "cells": [
    {
      "cell_type": "code",
      "source": "# Warming Up\nimport pandas as pd\nimport numpy as np\nfrom random import randrange\n\nfPath = './data/vgsales.csv'\ndf = pd.read_csv(fPath)\n\n# trying to create 1.5% worth of duplicates\nrws = df.shape[0]\ncol = df.shape[1]\nrwRtio = int(.015 * rws) # float is truncated\n\nprint('Number of instances before duplication = %d' % (rws))\n\ndef eenyMeeny():\n     # select a random row\n    tg = df.iloc[randrange(0, rws)]\n    # return randomly selected row\n    return tg\n\nfor i in range(rwRtio):\n    df = df.append(eenyMeeny(), ignore_index=True)\nrws = df.shape[0]\n\nprint('Number of instances after duplication = %d' % (rws))\nprint('Number of attributes = %d' % (col))\nprint(df.head())",
      "metadata": {},
      "outputs": [
        {
          "name": "stdout",
          "output_type": "stream",
          "text": [
            "248\n",
            "Number of instances = 16598\n",
            "Number of attributes = 11\n",
            "   Rank                      Name Platform    Year         Genre Publisher  \\\n",
            "0     1                Wii Sports      Wii  2006.0        Sports  Nintendo   \n",
            "1     2         Super Mario Bros.      NES  1985.0      Platform  Nintendo   \n",
            "2     3            Mario Kart Wii      Wii  2008.0        Racing  Nintendo   \n",
            "3     4         Wii Sports Resort      Wii  2009.0        Sports  Nintendo   \n",
            "4     5  Pokemon Red/Pokemon Blue       GB  1996.0  Role-Playing  Nintendo   \n",
            "\n",
            "   NA_Sales  EU_Sales  JP_Sales  Other_Sales  Global_Sales  \n",
            "0     41.49     29.02      3.77         8.46         82.74  \n",
            "1     29.08      3.58      6.81         0.77         40.24  \n",
            "2     15.85     12.88      3.79         3.31         35.82  \n",
            "3     15.75     11.01      3.28         2.96         33.00  \n",
            "4     11.27      8.89     10.22         1.00         31.37  \n"
          ]
        }
      ],
      "execution_count": 30
    },
    {
      "cell_type": "markdown",
      "source": "### Missing Values",
      "metadata": {}
    },
    {
      "cell_type": "code",
      "source": "data = df.replace('?',np.NaN)\n\nprint('Number of instances = %d' % (rws))\nprint('Number of attributes = %d' % (col))\n\nprint('Number of missing values:')\nfor col in df.columns:\n    print('\\t%s: %d' % (col,df[col].isna().sum()))",
      "metadata": {},
      "outputs": [],
      "execution_count": null
    },
    {
      "cell_type": "code",
      "source": "print('Number of rows in original data = %d' % (rws))\ndf = df.dropna()\nprint('Number of rows after discarding missing values = %d' % (df.shape[0]))\nprint('Difference in number of rows = %d' % (rws-df.shape[0]))\n# update rws\nrws = df.shape[0]",
      "metadata": {},
      "outputs": [],
      "execution_count": null
    },
    {
      "cell_type": "markdown",
      "source": "### Outliers",
      "metadata": {}
    },
    {
      "cell_type": "code",
      "source": "pass",
      "metadata": {},
      "outputs": [],
      "execution_count": null
    },
    {
      "cell_type": "markdown",
      "source": "### Duplicat Data",
      "metadata": {}
    },
    {
      "cell_type": "code",
      "source": "dups = df.duplicated()\nprint('Number of duplicate rows = %d' % (dups.sum()))",
      "metadata": {},
      "outputs": [],
      "execution_count": null
    },
    {
      "cell_type": "markdown",
      "source": "### Discretization",
      "metadata": {}
    },
    {
      "cell_type": "markdown",
      "source": "#### Step 1: Plotting the Histogram and Value Counts for Global Sales",
      "metadata": {}
    },
    {
      "cell_type": "code",
      "source": "import pandas as pd\nimport matplotlib.pyplot as plt\n\n\"\"\"\nStep 1: Plots a histogram for the Global Sales\nThis histogram visually represents the distribution of global sales values across all video games in the dataset.\nCount the frequency of each Global Sales value\nThis prints out the number of occurrences of each unique global sales value, providing insight into the common sales figures\n\"\"\"\n\n# Load the dataset\nfPath = './data/vgsales.csv'\ndf = pd.read_csv(fPath)\n\n# Plot a histogram for the Global Sales\ndf['Global_Sales'].hist(bins=10)\nplt.show()\n\n# Count the frequency of each Global Sales value\nprint(df['Global_Sales'].value_counts(sort=False))",
      "metadata": {
        "trusted": true
      },
      "outputs": [
        {
          "output_type": "display_data",
          "data": {
            "text/plain": "<Figure size 640x480 with 1 Axes>",
            "image/png": "[encoded data removed]"
          },
          "metadata": {}
        },
        {
          "name": "stdout",
          "text": "82.74       1\n40.24       1\n35.82       1\n33.00       1\n31.37       1\n         ... \n0.05      632\n0.04      645\n0.03      811\n0.02     1071\n0.01      618\nName: Global_Sales, Length: 623, dtype: int64\n",
          "output_type": "stream"
        }
      ],
      "execution_count": 8
    },
    {
      "cell_type": "markdown",
      "source": "#### Step 2: Equal Width Discretization",
      "metadata": {}
    },
    {
      "cell_type": "code",
      "source": "\"\"\"\nStep 2: \nEqual Width Discretization into 4 bins\nThis method divides the range of Global Sales into 4 bins of equal interval widths, categorizing the continuous sales data into discrete intervals.\n\"\"\"\n\n# Equal Width Discretization into 4 bins\nbins_equal_width = pd.cut(df['Global_Sales'], 4)\nprint(bins_equal_width.value_counts(sort=False))",
      "metadata": {
        "trusted": true
      },
      "outputs": [
        {
          "name": "stdout",
          "text": "(-0.0727, 20.692]    16580\n(20.692, 41.375]        17\n(41.375, 62.057]         0\n(62.057, 82.74]          1\nName: Global_Sales, dtype: int64\n",
          "output_type": "stream"
        }
      ],
      "execution_count": 9
    },
    {
      "cell_type": "markdown",
      "source": "#### Step 3: Equal Frequency Discretization",
      "metadata": {}
    },
    {
      "cell_type": "code",
      "source": "\"\"\"\nStep 3:\nEqual Frequency Discretization into 4 bins\nThis method divides the Global Sales data into 4 bins such that each bin contains approximately the same number of records, ensuring an even distribution across bins\n\"\"\"\n# Equal Frequency Discretization into 4 bins\nbins_equal_freq = pd.qcut(df['Global_Sales'], 4)\nprint(bins_equal_freq.value_counts(sort=False))",
      "metadata": {
        "trusted": true
      },
      "outputs": [
        {
          "name": "stdout",
          "text": "(0.009000000000000001, 0.06]    4354\n(0.06, 0.17]                    4038\n(0.17, 0.47]                    4060\n(0.47, 82.74]                   4146\nName: Global_Sales, dtype: int64\n",
          "output_type": "stream"
        }
      ],
      "execution_count": 10
    }
  ]
}